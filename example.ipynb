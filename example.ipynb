{
 "cells": [
  {
   "cell_type": "markdown",
   "metadata": {},
   "source": [
    "### Using guess selection functionality of `multicube`\n",
    "\n",
    "This notebook:\n",
    "* generates a spectral cube in [FITS](http://fits.gsfc.nasa.gov/fits_documentation.html) format\n",
    "* makes a guess grid based on parameter ranges specified\n",
    "* performs Gaussian line fitting with [pyspeckit](https://github.com/pyspeckit/pyspeckit)\n",
    "* makes best guess calculatons along with some goodness-of-fit estimates"
   ]
  },
  {
   "cell_type": "code",
   "execution_count": 1,
   "metadata": {
    "collapsed": false
   },
   "outputs": [
    {
     "name": "stderr",
     "output_type": "stream",
     "text": [
      "The `IPython.html` package has been deprecated. You should import from `notebook` instead. `IPython.html.widgets` has moved to `ipywidgets`.\n"
     ]
    }
   ],
   "source": [
    "import numpy as np\n",
    "%matplotlib inline\n",
    "import matplotlib.pylab as plt\n",
    "import pyspeckit\n",
    "from subcube import SubCube\n",
    "from astro_toolbox import make_test_cube, get_ncores\n",
    "from IPython.utils import io\n",
    "import warnings\n",
    "warnings.filterwarnings('ignore')"
   ]
  },
  {
   "cell_type": "markdown",
   "metadata": {},
   "source": [
    "Let's first make a test FITS file, containing a mixture of synthetic signal with some noise put on top of it.\n",
    "\n",
    "The created spectral cube will be 10x10 pixels wide in the plain of sky and 300 pixels \"long\" along its spectral axis."
   ]
  },
  {
   "cell_type": "code",
   "execution_count": 2,
   "metadata": {
    "collapsed": true
   },
   "outputs": [],
   "source": [
    "make_test_cube((300,10,10), outfile='foo.fits', sigma=(10,5))\n",
    "sc = SubCube('foo.fits')\n",
    "# TODO: show an integrated instensity map and an example spectrum"
   ]
  },
  {
   "cell_type": "markdown",
   "metadata": {},
   "source": [
    "To make things interesting, let's introduce a radial velocity gradient in our cube."
   ]
  },
  {
   "cell_type": "code",
   "execution_count": 3,
   "metadata": {
    "collapsed": true
   },
   "outputs": [],
   "source": [
    "# TODO: move this to astro_toolbox.py\n",
    "#       as a general synthetic cube generator routine\n",
    "def rotate_ppv(arr):\n",
    "    scale_roll = 15\n",
    "    for y,x in np.ndindex(arr.shape[1:]):\n",
    "        roll = np.sqrt((x-5)**2 + (y-5)**2) * scale_roll\n",
    "        arr[:,y,x] = np.roll(arr[:,y,x], int(roll))\n",
    "    return arr\n",
    "sc.cube = rotate_ppv(sc.cube)"
   ]
  },
  {
   "cell_type": "markdown",
   "metadata": {},
   "source": [
    "`multicube` can take minimal and maximal values for spectral model parameters and permute them to generate a **grid in parameter space** with given spacing (`finesse`). This works for an arbirtary number of parameters and for custom resolution for individual parameters (e.g., setting `finesse = [3, 20, 5]` will also work in this case).\n",
    "\n",
    "(*for Gaussian model in `pyspeckit`, the parameter order is [`amplitude`, `centroid`, `sigma`]*)"
   ]
  },
  {
   "cell_type": "code",
   "execution_count": 4,
   "metadata": {
    "collapsed": false
   },
   "outputs": [],
   "source": [
    "sc.update_model('gaussian')\n",
    "minpars = [0.1, sc.xarr.min().value, 0.1]\n",
    "maxpars = [2.0, sc.xarr.max().value, 2.0]\n",
    "finesse = 10\n",
    "sc.make_guess_grid(minpars, maxpars, finesse)\n",
    "# TODO: why does 'fixed' fitkwarg break fiteach?\n",
    "sc.fiteach_args.pop('fixed',None);"
   ]
  },
  {
   "cell_type": "markdown",
   "metadata": {},
   "source": [
    "This grid, stored under `sc.guess_grid`, can be used to generate a number of spectral models with `pyspeckit`, and the guesses that have the least residual `rms` can be selected for the whole cube:\n",
    "* `sc.best_map` stored the map between x,y pixel numbers and the numbers of corresponding best models\n",
    "* `sc.best_model` is the number of the model suited best for the pixel with the highest S/N ratio."
   ]
  },
  {
   "cell_type": "code",
   "execution_count": 5,
   "metadata": {
    "collapsed": false
   },
   "outputs": [
    {
     "name": "stdout",
     "output_type": "stream",
     "text": [
      "Best model: #444 [  0.94444444 -11.21111111   0.94444444] giving rms=0.06 forhighest SNR position at (4,5)\n"
     ]
    }
   ],
   "source": [
    "sc.generate_model()\n",
    "sc.get_snr_map()\n",
    "sc.best_guess()"
   ]
  },
  {
   "cell_type": "markdown",
   "metadata": {},
   "source": [
    "### Example #1: fitting the cube with the overall best model:"
   ]
  },
  {
   "cell_type": "code",
   "execution_count": 6,
   "metadata": {
    "collapsed": false,
    "scrolled": true
   },
   "outputs": [
    {
     "name": "stderr",
     "output_type": "stream",
     "text": [
      "INFO:astropy:Left region selection unchanged.  xminpix, xmaxpix: 0,300\n"
     ]
    },
    {
     "data": {
      "image/png": "[encoded data removed]",
      "text/plain": [
       "<matplotlib.figure.Figure at 0x7feef92bcad0>"
      ]
     },
     "metadata": {},
     "output_type": "display_data"
    }
   ],
   "source": [
    "sc1, sc2 = sc, sc.copy()\n",
    "with io.capture_output() as captured: # suppresses output, normally should not be used\n",
    "    sc1.fiteach(fittype   = sc1.fittype,\n",
    "                guesses   = sc1.guess_grid[sc1.best_model],\n",
    "                multicore = get_ncores(),\n",
    "                errmap    = sc1._rms_map,\n",
    "                verbose   = 0,\n",
    "                **sc1.fiteach_args)\n",
    "\n",
    "# computing chi^2 statistics to judge the goodness of fit:\n",
    "sc1.get_chi_squared(sigma=sc1.header['RMSLVL'])\n",
    "sc1.chi_squared_stats()\n",
    "\n",
    "# let's plot the velocity field:\n",
    "sc1.show_fit_param(1, cmap='coolwarm')\n",
    "clb = sc1.mapplot.FITSFigure.colorbar\n",
    "clb.set_axis_label_text(sc1.xarr.unit.to_string('latex_inline'))\n",
    "sc1.mapplot.FITSFigure.set_title(\"fiteach() for one guess only:\")\n",
    "\n",
    "# and overlay the pixels that didn't converge properly:\n",
    "sc1.mark_bad_fits()"
   ]
  },
  {
   "cell_type": "markdown",
   "metadata": {},
   "source": [
    "Because the same guess was used across the cube with varying velocity centroid, it isn't surprising that the fit failed to converge outside the central spot. Normally, a combination of `start_from_point=(x,y)` and `use_neighbor_as_guess=True` arguments can be passed to `pyspeckit.Cube.fiteach` to gradually spread from (x,y) and avoid divergence in this case, but this approach\n",
    "* breaks down for large gradients/discontinuities in parameter space\n",
    "* doesn't work that well when `multicore` is set to a relatively high number."
   ]
  },
  {
   "cell_type": "markdown",
   "metadata": {},
   "source": [
    "### Example #2: fitting the cube best models for each x,y pixel:"
   ]
  },
  {
   "cell_type": "code",
   "execution_count": 7,
   "metadata": {
    "collapsed": false
   },
   "outputs": [
    {
     "name": "stderr",
     "output_type": "stream",
     "text": [
      "INFO:astropy:Left region selection unchanged.  xminpix, xmaxpix: 0,300\n"
     ]
    },
    {
     "data": {
      "image/png": "[encoded data removed]",
      "text/plain": [
       "<matplotlib.figure.Figure at 0x7fef37135990>"
      ]
     },
     "metadata": {},
     "output_type": "display_data"
    }
   ],
   "source": [
    "with io.capture_output() as captured: # suppresses output, normally should not be used\n",
    "    sc2.fiteach(fittype   = sc2.fittype,\n",
    "                guesses   = sc2.guess_grid[sc2.best_map].T,\n",
    "                multicore = get_ncores(),\n",
    "                errmap    = sc2._rms_map,\n",
    "                verbose   = 0,\n",
    "                **sc2.fiteach_args);\n",
    "\n",
    "# computing chi^2 statistics to judge the goodness of fit:\n",
    "sc2.get_chi_squared(sigma=sc2.header['RMSLVL'], refresh=True)\n",
    "sc2.chi_squared_stats()\n",
    "\n",
    "sc2.show_fit_param(1, cmap='coolwarm')\n",
    "clb = sc2.mapplot.FITSFigure.colorbar\n",
    "clb.set_axis_label_text(sc2.xarr.unit.to_string('latex_inline'))\n",
    "sc2.mapplot.FITSFigure.set_title(\"fiteach() for a map of best guesses:\")\n",
    "\n",
    "# and overlay the pixels that didn't converge properly:\n",
    "sc2.mark_bad_fits() # voila! all the pixels are fit!"
   ]
  },
  {
   "cell_type": "code",
   "execution_count": null,
   "metadata": {
    "collapsed": true
   },
   "outputs": [],
   "source": []
  }
 ],
 "metadata": {
  "kernelspec": {
   "display_name": "Python 2",
   "language": "python",
   "name": "python2"
  },
  "language_info": {
   "codemirror_mode": {
    "name": "ipython",
    "version": 2
   },
   "file_extension": ".py",
   "mimetype": "text/x-python",
   "name": "python",
   "nbconvert_exporter": "python",
   "pygments_lexer": "ipython2",
   "version": "2.7.6"
  }
 },
 "nbformat": 4,
 "nbformat_minor": 0
}
